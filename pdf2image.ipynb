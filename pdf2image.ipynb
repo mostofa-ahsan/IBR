{
 "cells": [
  {
   "cell_type": "code",
   "execution_count": 1,
   "id": "5b6d6496",
   "metadata": {},
   "outputs": [
    {
     "name": "stdout",
     "output_type": "stream",
     "text": [
      "/n01/data/nlp_aeac/mostofa_env/INPUT/PDF/Dupont_IB_Ella Mccleary_IB_02252021 to 02282021.pdf\n",
      "Dupont_IB_Ella Mccleary_IB_02252021 to 02282021.pdf\n",
      "/n01/data/nlp_aeac/mostofa_env/INPUT/IMAGES/Dupont_IB_Ella Mccleary_IB_02252021 to 02282021.pdf\n",
      "/n01/data/nlp_aeac/mostofa_env/INPUT/PDF/Kade Diehl IB.pdf\n",
      "Kade Diehl IB.pdf\n",
      "/n01/data/nlp_aeac/mostofa_env/INPUT/IMAGES/Kade Diehl IB.pdf\n",
      "/n01/data/nlp_aeac/mostofa_env/INPUT/PDF/CAMC_IB_Clint Ellithorp_Claim # 21358265595.pdf\n",
      "CAMC_IB_Clint Ellithorp_Claim # 21358265595.pdf\n",
      "/n01/data/nlp_aeac/mostofa_env/INPUT/IMAGES/CAMC_IB_Clint Ellithorp_Claim # 21358265595.pdf\n",
      "/n01/data/nlp_aeac/mostofa_env/INPUT/PDF/CAMC_IB_Nancy Nunn_Claim # 21858131287.pdf\n",
      "CAMC_IB_Nancy Nunn_Claim # 21858131287.pdf\n",
      "/n01/data/nlp_aeac/mostofa_env/INPUT/IMAGES/CAMC_IB_Nancy Nunn_Claim # 21858131287.pdf\n",
      "/n01/data/nlp_aeac/mostofa_env/INPUT/PDF/Victoria Cahill Itemized Bill.pdf\n",
      "Victoria Cahill Itemized Bill.pdf\n",
      "/n01/data/nlp_aeac/mostofa_env/INPUT/IMAGES/Victoria Cahill Itemized Bill.pdf\n",
      "/n01/data/nlp_aeac/mostofa_env/INPUT/PDF/35807012101, Janinto Lucero Oyarvides.pdf\n",
      "35807012101, Janinto Lucero Oyarvides.pdf\n",
      "/n01/data/nlp_aeac/mostofa_env/INPUT/IMAGES/35807012101, Janinto Lucero Oyarvides.pdf\n",
      "/n01/data/nlp_aeac/mostofa_env/INPUT/PDF/IB_Tina Wheler.pdf\n",
      "IB_Tina Wheler.pdf\n",
      "/n01/data/nlp_aeac/mostofa_env/INPUT/IMAGES/IB_Tina Wheler.pdf\n",
      "/n01/data/nlp_aeac/mostofa_env/INPUT/PDF/IB_Harry Andes_Claim # 21653068802.pdf\n",
      "IB_Harry Andes_Claim # 21653068802.pdf\n",
      "/n01/data/nlp_aeac/mostofa_env/INPUT/IMAGES/IB_Harry Andes_Claim # 21653068802.pdf\n",
      "/n01/data/nlp_aeac/mostofa_env/INPUT/PDF/20690511049 - R Spencer.pdf\n",
      "20690511049 - R Spencer.pdf\n",
      "/n01/data/nlp_aeac/mostofa_env/INPUT/IMAGES/20690511049 - R Spencer.pdf\n",
      "/n01/data/nlp_aeac/mostofa_env/INPUT/PDF/Silas Smith_Claim # 35786012312.pdf\n",
      "Silas Smith_Claim # 35786012312.pdf\n",
      "/n01/data/nlp_aeac/mostofa_env/INPUT/IMAGES/Silas Smith_Claim # 35786012312.pdf\n",
      "/n01/data/nlp_aeac/mostofa_env/INPUT/PDF/WVU_IB Gerald Blose_Claim 21854759195.pdf\n",
      "WVU_IB Gerald Blose_Claim 21854759195.pdf\n",
      "/n01/data/nlp_aeac/mostofa_env/INPUT/IMAGES/WVU_IB Gerald Blose_Claim 21854759195.pdf\n",
      "/n01/data/nlp_aeac/mostofa_env/INPUT/PDF/HMBRFAXP04_2103052132526336.pdf\n",
      "HMBRFAXP04_2103052132526336.pdf\n",
      "/n01/data/nlp_aeac/mostofa_env/INPUT/IMAGES/HMBRFAXP04_2103052132526336.pdf\n",
      "/n01/data/nlp_aeac/mostofa_env/INPUT/PDF/Geisinger_IB_ Eva Chmielewski_Claim # 21071439574.pdf\n",
      "Geisinger_IB_ Eva Chmielewski_Claim # 21071439574.pdf\n",
      "/n01/data/nlp_aeac/mostofa_env/INPUT/IMAGES/Geisinger_IB_ Eva Chmielewski_Claim # 21071439574.pdf\n",
      "/n01/data/nlp_aeac/mostofa_env/INPUT/PDF/Dupont_Landon Eddy_Claim # 21455725150.pdf\n",
      "Dupont_Landon Eddy_Claim # 21455725150.pdf\n",
      "/n01/data/nlp_aeac/mostofa_env/INPUT/IMAGES/Dupont_Landon Eddy_Claim # 21455725150.pdf\n",
      "/n01/data/nlp_aeac/mostofa_env/INPUT/PDF/WVU_IB_Martha Jacobs_Claim # 21558943254.pdf\n",
      "WVU_IB_Martha Jacobs_Claim # 21558943254.pdf\n",
      "/n01/data/nlp_aeac/mostofa_env/INPUT/IMAGES/WVU_IB_Martha Jacobs_Claim # 21558943254.pdf\n",
      "/n01/data/nlp_aeac/mostofa_env/INPUT/PDF/IB_Claim # 21453296565.pdf\n",
      "IB_Claim # 21453296565.pdf\n",
      "/n01/data/nlp_aeac/mostofa_env/INPUT/IMAGES/IB_Claim # 21453296565.pdf\n",
      "/n01/data/nlp_aeac/mostofa_env/INPUT/PDF/Betsy Stewart_Claim # 21740462937.pdf\n",
      "Betsy Stewart_Claim # 21740462937.pdf\n",
      "/n01/data/nlp_aeac/mostofa_env/INPUT/IMAGES/Betsy Stewart_Claim # 21740462937.pdf\n",
      "New File Transfer........\n",
      "/n01/data/nlp_aeac/mostofa_env/INPUT/PDF/Dupont_IB_Greyson Walls_Claim # 21154041269.pdf\n",
      "Dupont_IB_Greyson Walls_Claim # 21154041269.pdf\n",
      "/n01/data/nlp_aeac/mostofa_env/INPUT/IMAGES/Dupont_IB_Greyson Walls_Claim # 21154041269.pdf\n",
      "/n01/data/nlp_aeac/mostofa_env/INPUT/PDF/IB_Claim # 21652750209.pdf\n",
      "IB_Claim # 21652750209.pdf\n",
      "/n01/data/nlp_aeac/mostofa_env/INPUT/IMAGES/IB_Claim # 21652750209.pdf\n",
      "/n01/data/nlp_aeac/mostofa_env/INPUT/PDF/Geisinger_IB_Brandon Slovinsky_02022021_02212021.pdf\n",
      "Geisinger_IB_Brandon Slovinsky_02022021_02212021.pdf\n",
      "/n01/data/nlp_aeac/mostofa_env/INPUT/IMAGES/Geisinger_IB_Brandon Slovinsky_02022021_02212021.pdf\n",
      "/n01/data/nlp_aeac/mostofa_env/INPUT/PDF/HMBRFAXP09_2103081209596413.pdf\n",
      "HMBRFAXP09_2103081209596413.pdf\n",
      "/n01/data/nlp_aeac/mostofa_env/INPUT/IMAGES/HMBRFAXP09_2103081209596413.pdf\n",
      "/n01/data/nlp_aeac/mostofa_env/INPUT/PDF/WVU_IB_Kenneth Snider_Claim # 21355551213.pdf\n",
      "WVU_IB_Kenneth Snider_Claim # 21355551213.pdf\n",
      "/n01/data/nlp_aeac/mostofa_env/INPUT/IMAGES/WVU_IB_Kenneth Snider_Claim # 21355551213.pdf\n",
      "/n01/data/nlp_aeac/mostofa_env/INPUT/PDF/Geisinger_IB_Peter Swistock_DOS 03212021-04152021.pdf\n",
      "Geisinger_IB_Peter Swistock_DOS 03212021-04152021.pdf\n",
      "/n01/data/nlp_aeac/mostofa_env/INPUT/IMAGES/Geisinger_IB_Peter Swistock_DOS 03212021-04152021.pdf\n",
      "/n01/data/nlp_aeac/mostofa_env/INPUT/PDF/CAMC_IB_Dana Keen_Claim # 21755930880.pdf\n",
      "CAMC_IB_Dana Keen_Claim # 21755930880.pdf\n",
      "/n01/data/nlp_aeac/mostofa_env/INPUT/IMAGES/CAMC_IB_Dana Keen_Claim # 21755930880.pdf\n",
      "/n01/data/nlp_aeac/mostofa_env/INPUT/PDF/Itemized Bill_Claim # 21648816099_Markbior Mayom.pdf\n",
      "Itemized Bill_Claim # 21648816099_Markbior Mayom.pdf\n",
      "/n01/data/nlp_aeac/mostofa_env/INPUT/IMAGES/Itemized Bill_Claim # 21648816099_Markbior Mayom.pdf\n"
     ]
    }
   ],
   "source": [
    "import os\n",
    "import ntpath\n",
    "from pdf2image import convert_from_path\n",
    "\n",
    "s= '/n01/data/nlp_aeac/mostofa_env/INPUT/PDF/'\n",
    "outputLoc = '/n01/data/nlp_aeac/mostofa_env/INPUT/IMAGES/'\n",
    "for path, subdirs, files in os.walk(s):\n",
    "    for filename in files:\n",
    "        img_name=filename[:-4]\n",
    "        inputLoc = s+filename\n",
    "        ocrLoc = outputLoc+filename\n",
    "        if not os.path.exists(ocrLoc):\n",
    "            os.makedirs(ocrLoc)\n",
    "            dpi=320\n",
    "            pages = convert_from_path(inputLoc ,dpi )\n",
    "            print(\"New File Transfer........\")\n",
    "            for i in range(len(pages)):\n",
    "                page = pages[i]\n",
    "                page.save('{}/{}_{}.jpg'.format(ocrLoc,img_name,i), 'JPEG')\n",
    "        print(inputLoc)\n",
    "        print(filename)\n",
    "        print(ocrLoc)"
   ]
  },
  {
   "cell_type": "code",
   "execution_count": 5,
   "id": "92db1614",
   "metadata": {},
   "outputs": [
    {
     "name": "stdout",
     "output_type": "stream",
     "text": [
      "Collecting fpdf\n",
      "  Downloading fpdf-1.7.2.tar.gz (39 kB)\n",
      "  Preparing metadata (setup.py) ... \u001b[?25ldone\n",
      "\u001b[?25hBuilding wheels for collected packages: fpdf\n",
      "  Building wheel for fpdf (setup.py) ... \u001b[?25ldone\n",
      "\u001b[?25h  Created wheel for fpdf: filename=fpdf-1.7.2-py2.py3-none-any.whl size=40725 sha256=c57ceeb1d6510fc7188f86a052425e44878d38c0e309ebd7ac093307492222cb\n",
      "  Stored in directory: /home/lidw48a/.cache/pip/wheels/d7/ca/c8/86467e7957bbbcbdf4cf4870fc7dc95e9a16404b2e3c3a98c3\n",
      "Successfully built fpdf\n",
      "Installing collected packages: fpdf\n",
      "Successfully installed fpdf-1.7.2\n"
     ]
    }
   ],
   "source": [
    "!pip install fpdf"
   ]
  },
  {
   "cell_type": "code",
   "execution_count": 6,
   "id": "e7a5093b",
   "metadata": {},
   "outputs": [],
   "source": [
    "import glob\n",
    "from fpdf import FPDF"
   ]
  },
  {
   "cell_type": "code",
   "execution_count": 1,
   "id": "905ed457",
   "metadata": {},
   "outputs": [
    {
     "name": "stdout",
     "output_type": "stream",
     "text": [
      "IB_Claim # 21453296565.pdf\n"
     ]
    },
    {
     "ename": "NameError",
     "evalue": "name 'glob' is not defined",
     "output_type": "error",
     "traceback": [
      "\u001b[0;31m---------------------------------------------------------------------------\u001b[0m",
      "\u001b[0;31mNameError\u001b[0m                                 Traceback (most recent call last)",
      "\u001b[0;32m/tmp/ipykernel_102729/2856590654.py\u001b[0m in \u001b[0;36m<module>\u001b[0;34m\u001b[0m\n\u001b[1;32m     11\u001b[0m         \u001b[0mimg_folder\u001b[0m\u001b[0;34m=\u001b[0m \u001b[0mInPutLoc\u001b[0m\u001b[0;34m+\u001b[0m\u001b[0mstr\u001b[0m\u001b[0;34m(\u001b[0m\u001b[0mdirs\u001b[0m\u001b[0;34m)\u001b[0m\u001b[0;34m+\u001b[0m\u001b[0;34m\"/\"\u001b[0m\u001b[0;34m\u001b[0m\u001b[0;34m\u001b[0m\u001b[0m\n\u001b[1;32m     12\u001b[0m         \u001b[0mimg_folder_list\u001b[0m\u001b[0;34m=\u001b[0m \u001b[0mInPutLoc\u001b[0m\u001b[0;34m+\u001b[0m\u001b[0mstr\u001b[0m\u001b[0;34m(\u001b[0m\u001b[0mdirs\u001b[0m\u001b[0;34m)\u001b[0m\u001b[0;34m+\u001b[0m\u001b[0;34m\"/*.jpg\"\u001b[0m\u001b[0;34m\u001b[0m\u001b[0;34m\u001b[0m\u001b[0m\n\u001b[0;32m---> 13\u001b[0;31m         \u001b[0mimagelist\u001b[0m \u001b[0;34m=\u001b[0m \u001b[0mglob\u001b[0m\u001b[0;34m.\u001b[0m\u001b[0mglob\u001b[0m\u001b[0;34m(\u001b[0m\u001b[0mimg_folder_list\u001b[0m\u001b[0;34m)\u001b[0m\u001b[0;34m\u001b[0m\u001b[0;34m\u001b[0m\u001b[0m\n\u001b[0m\u001b[1;32m     14\u001b[0m         \u001b[0mprint\u001b[0m\u001b[0;34m(\u001b[0m\u001b[0mimagelist\u001b[0m\u001b[0;34m)\u001b[0m\u001b[0;34m\u001b[0m\u001b[0;34m\u001b[0m\u001b[0m\n\u001b[1;32m     15\u001b[0m \u001b[0;31m#         pdf= FPDF()\u001b[0m\u001b[0;34m\u001b[0m\u001b[0;34m\u001b[0m\u001b[0;34m\u001b[0m\u001b[0m\n",
      "\u001b[0;31mNameError\u001b[0m: name 'glob' is not defined"
     ]
    }
   ],
   "source": [
    "from PIL import Image\n",
    "import os\n",
    "import ntpath\n",
    "\n",
    "OutPutLoc= '/n01/data/nlp_aeac/mostofa_env/INPUT/IMAGE_PROCESSED_PDF/'\n",
    "InPutLoc = '/n01/data/nlp_aeac/mostofa_env/INPUT/IMAGES/'\n",
    "\n",
    "for path, subdirs, files in os.walk(InPutLoc):\n",
    "    for dirs in subdirs:\n",
    "        print(dirs)\n",
    "        img_folder= InPutLoc+str(dirs)+\"/\"\n",
    "        img_folder_list= InPutLoc+str(dirs)+\"/*.jpg\"\n",
    "        imagelist = sorted(glob.glob(img_folder_list), key=os.path.getmtime)\n",
    "        print(imagelist)\n",
    "        pdf= FPDF()\n",
    "        out_pdf_name= OutPutLoc+str(dirs)\n",
    "        for image in imagelist:\n",
    "#             img=img_folder+image\n",
    "            pdf.add_page()\n",
    "            pdf.image(image, 10,210,297)\n",
    "        pdf.output(out_pdf_name, \"F\")\n",
    "        \n",
    "        \n",
    "#         for files in os.walk(img_folder):\n",
    "#             print(files)\n",
    "\n",
    "# image_1 = Image.open(r'C:\\Users\\Ron\\Desktop\\Test\\view_1.png')\n",
    "# image_2 = Image.open(r'C:\\Users\\Ron\\Desktop\\Test\\view_2.png')\n",
    "# image_3 = Image.open(r'C:\\Users\\Ron\\Desktop\\Test\\view_3.png')\n",
    "# image_4 = Image.open(r'C:\\Users\\Ron\\Desktop\\Test\\view_4.png')\n",
    "\n",
    "# im_1 = image_1.convert('RGB')\n",
    "# im_2 = image_2.convert('RGB')\n",
    "# im_3 = image_3.convert('RGB')\n",
    "# im_4 = image_4.convert('RGB')\n",
    "\n",
    "# image_list = [im_2, im_3, im_4]\n",
    "\n",
    "# im_1.save(r'C:\\Users\\Ron\\Desktop\\Test\\my_images.pdf', save_all=True, append_images=image_list)"
   ]
  },
  {
   "cell_type": "code",
   "execution_count": 2,
   "id": "1d159fd0",
   "metadata": {},
   "outputs": [
    {
     "ename": "ModuleNotFoundError",
     "evalue": "No module named 'MyImages'",
     "output_type": "error",
     "traceback": [
      "\u001b[0;31m---------------------------------------------------------------------------\u001b[0m",
      "\u001b[0;31mModuleNotFoundError\u001b[0m                       Traceback (most recent call last)",
      "\u001b[0;32m/tmp/ipykernel_39741/2308270919.py\u001b[0m in \u001b[0;36m<module>\u001b[0;34m\u001b[0m\n\u001b[0;32m----> 1\u001b[0;31m \u001b[0;32mfrom\u001b[0m \u001b[0mMyImages\u001b[0m \u001b[0;32mimport\u001b[0m \u001b[0mMyImages\u001b[0m\u001b[0;34m\u001b[0m\u001b[0;34m\u001b[0m\u001b[0m\n\u001b[0m",
      "\u001b[0;31mModuleNotFoundError\u001b[0m: No module named 'MyImages'"
     ]
    }
   ],
   "source": [
    "from MyImages import MyImages"
   ]
  },
  {
   "cell_type": "code",
   "execution_count": 2,
   "id": "d91f8b2c",
   "metadata": {},
   "outputs": [
    {
     "name": "stdout",
     "output_type": "stream",
     "text": [
      "r\n"
     ]
    }
   ],
   "source": [
    "string = \"hello world\"\n",
    "print(string[-3])"
   ]
  },
  {
   "cell_type": "code",
   "execution_count": 3,
   "id": "50133435",
   "metadata": {},
   "outputs": [
    {
     "name": "stdout",
     "output_type": "stream",
     "text": [
      "1\n",
      "4\n",
      "9\n",
      "16\n",
      "25\n",
      "36\n",
      "49\n",
      "16\n",
      "4\n",
      "64\n",
      "81\n",
      "[1, 4, 9, 16, 25, 36, 49, 16, 4, 64, 81]\n"
     ]
    }
   ],
   "source": [
    "numbers = [1, 4, 9, 16, 25, 36, 49,16, 4, 64, 81]\n",
    "l=[]\n",
    "for i in numbers:\n",
    "    print(i)\n",
    "    l.append(i)\n",
    "print(l)"
   ]
  }
 ],
 "metadata": {
  "kernelspec": {
   "display_name": "Python 3 (ipykernel)",
   "language": "python",
   "name": "python3"
  },
  "language_info": {
   "codemirror_mode": {
    "name": "ipython",
    "version": 3
   },
   "file_extension": ".py",
   "mimetype": "text/x-python",
   "name": "python",
   "nbconvert_exporter": "python",
   "pygments_lexer": "ipython3",
   "version": "3.7.12"
  }
 },
 "nbformat": 4,
 "nbformat_minor": 5
}
